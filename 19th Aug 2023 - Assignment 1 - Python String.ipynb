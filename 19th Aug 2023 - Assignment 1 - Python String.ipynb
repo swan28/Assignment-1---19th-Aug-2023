{
 "cells": [
  {
   "cell_type": "code",
   "execution_count": 2,
   "id": "c3157f09-7ec1-462f-9db1-b6124925dae4",
   "metadata": {},
   "outputs": [
    {
     "name": "stdin",
     "output_type": "stream",
     "text": [
      "Enter a String :  Happy Learning...\n"
     ]
    },
    {
     "name": "stdout",
     "output_type": "stream",
     "text": [
      "Length of the String is :  17\n",
      "Length of the String is :  17\n"
     ]
    }
   ],
   "source": [
    "'''1. Write a Python program that takes a string as input and prints the length of\n",
    "the string.'''\n",
    "\n",
    "string = input(\"Enter a String : \")\n",
    "\n",
    "# using built-in string function\n",
    "lengthOfString = len(string)\n",
    "\n",
    "print(\"Length of the String is : \", lengthOfString)\n",
    "\n",
    "# using for loop \n",
    "count = 0\n",
    "for i in string:\n",
    "    count += 1\n",
    "print(\"Length of the String is : \", count)\n"
   ]
  },
  {
   "cell_type": "code",
   "execution_count": 9,
   "id": "355ffdf4-24a4-4fb8-b33f-c7d14c2dae5f",
   "metadata": {},
   "outputs": [
    {
     "name": "stdin",
     "output_type": "stream",
     "text": [
      "Enter a sentence :  Hey, how are you? Hope you are doing well..\n"
     ]
    },
    {
     "name": "stdout",
     "output_type": "stream",
     "text": [
      "Count of all the Vowels present in the string =  15\n"
     ]
    },
    {
     "name": "stdin",
     "output_type": "stream",
     "text": [
      "Enter a string :  Hey, how are you? Hope you are doing well..\n"
     ]
    },
    {
     "name": "stdout",
     "output_type": "stream",
     "text": [
      "Vowel a count =  2\n",
      "Vowel e count =  5\n",
      "Vowel i count =  1\n",
      "Vowel o count =  5\n",
      "Vowel u count =  2\n"
     ]
    }
   ],
   "source": [
    "'''2. Create a program that takes a sentence from the user and counts the number\n",
    "of vowels (a, e, i, o, u) in the string.'''\n",
    "\n",
    "sentence = input(\"Enter a sentence : \")\n",
    "countOfVowels = 0\n",
    "\n",
    "# Count total number of vowels present \n",
    "for alphabet in sentence:\n",
    "    if(alphabet=='a' or alphabet=='e' or alphabet=='i' or alphabet=='o' or alphabet=='u' or alphabet=='A' or alphabet=='E' or alphabet=='I' or alphabet=='O' or alphabet=='U'):\n",
    "        countOfVowels += 1\n",
    "print(\"Count of all the Vowels present in the string = \", countOfVowels)\n",
    "\n",
    "# Give the count of each vowel peresent in the string\n",
    "string = input(\"Enter a string : \")\n",
    "countOfa, countOfe, countOfi, countOfo, countOfu = 0, 0, 0, 0, 0\n",
    "\n",
    "for alpha in string:\n",
    "    if(alpha=='a' or alpha=='A'):\n",
    "        countOfa += 1\n",
    "    elif(alpha=='e' or alpha=='E'):\n",
    "        countOfe += 1\n",
    "    elif(alpha=='i' or alpha=='I'):\n",
    "        countOfi += 1\n",
    "    elif(alpha=='o' or alpha=='O'):\n",
    "        countOfo += 1\n",
    "    elif(alpha=='u' or alpha=='U'):\n",
    "        countOfu += 1\n",
    "print(\"Vowel a count = \", countOfa)\n",
    "print(\"Vowel e count = \", countOfe)\n",
    "print(\"Vowel i count = \", countOfi)\n",
    "print(\"Vowel o count = \", countOfo)\n",
    "print(\"Vowel u count = \", countOfu)"
   ]
  },
  {
   "cell_type": "code",
   "execution_count": 11,
   "id": "1564ed0e-05db-4718-b908-6e37deaf3849",
   "metadata": {},
   "outputs": [
    {
     "name": "stdin",
     "output_type": "stream",
     "text": [
      "Enter a string :  hello\n"
     ]
    },
    {
     "data": {
      "text/plain": [
       "'olleh'"
      ]
     },
     "execution_count": 11,
     "metadata": {},
     "output_type": "execute_result"
    }
   ],
   "source": [
    "'''3. Given a string, reverse the order of characters using string slicing and print\n",
    "the reversed string.'''\n",
    "\n",
    "string = input(\"Enter a string : \")\n",
    "\n",
    "# slicing has 3 parameters like start,stop,step\n",
    "string[::-1]"
   ]
  },
  {
   "cell_type": "code",
   "execution_count": 1,
   "id": "d9fd9571-f289-4d53-ab91-72089da779d3",
   "metadata": {},
   "outputs": [
    {
     "name": "stdin",
     "output_type": "stream",
     "text": [
      "Enter a string :  radar\n"
     ]
    },
    {
     "name": "stdout",
     "output_type": "stream",
     "text": [
      "String is Pallindrome\n"
     ]
    },
    {
     "name": "stdin",
     "output_type": "stream",
     "text": [
      "Enter a string :  sky\n"
     ]
    },
    {
     "name": "stdout",
     "output_type": "stream",
     "text": [
      "String not Pallindrome\n"
     ]
    }
   ],
   "source": [
    "'''4. Write a program that takes a string as input and checks if it is a palindrome\n",
    "(reads the same forwards and backwards).'''\n",
    "\n",
    "string = input(\"Enter a string : \")\n",
    "\n",
    "# using slicing\n",
    "reversedString = string[::-1]\n",
    "\n",
    "if(string == reversedString):\n",
    "    print(\"String is Pallindrome\")\n",
    "else:\n",
    "    print(\"String not Pallindrome\")\n",
    "    \n",
    "# using loop\n",
    "s1 = input(\"Enter a string : \")\n",
    "\n",
    "start=0\n",
    "end=len(s1)-1\n",
    "found = 0\n",
    "\n",
    "while(start<end):\n",
    "    if(s1[start] == s1[end]):\n",
    "        found = 1\n",
    "        start += 1\n",
    "        end -= 1\n",
    "    else:\n",
    "        break\n",
    "if(found):\n",
    "    print(\"String is Pallindrome\")\n",
    "else:\n",
    "    print(\"String not Pallindrome\")"
   ]
  },
  {
   "cell_type": "code",
   "execution_count": 13,
   "id": "58b6bc8c-9a50-4c5d-a6b8-3408ade9f79c",
   "metadata": {},
   "outputs": [
    {
     "name": "stdin",
     "output_type": "stream",
     "text": [
      "Enter a string :  hello how r u\n"
     ]
    },
    {
     "name": "stdout",
     "output_type": "stream",
     "text": [
      "String without spaces :  hellohowru\n"
     ]
    },
    {
     "name": "stdin",
     "output_type": "stream",
     "text": [
      "Enter a string :  hope u r doing well...\n"
     ]
    },
    {
     "name": "stdout",
     "output_type": "stream",
     "text": [
      "String without spaces :  hopeurdoingwell...\n"
     ]
    }
   ],
   "source": [
    "'''5. Create a program that takes a string as input and removes all the spaces from\n",
    "it. Print the modified string without spaces.'''\n",
    "\n",
    "string = input(\"Enter a string : \")\n",
    "\n",
    "# using built-in method replace\n",
    "print(\"String without spaces : \", string.replace(\" \",\"\"))\n",
    "\n",
    "# using loop, empty string\n",
    "string = input(\"Enter a string : \")\n",
    "stringWithoutSpaces = \"\"\n",
    "\n",
    "for alpha in string:\n",
    "    if(alpha != ' '):\n",
    "        stringWithoutSpaces += alpha\n",
    "print(\"String without spaces : \", stringWithoutSpaces)"
   ]
  },
  {
   "cell_type": "code",
   "execution_count": null,
   "id": "a17e16c6-ccdf-4227-8f37-90b913f8a5cc",
   "metadata": {},
   "outputs": [],
   "source": []
  }
 ],
 "metadata": {
  "kernelspec": {
   "display_name": "Python 3 (ipykernel)",
   "language": "python",
   "name": "python3"
  },
  "language_info": {
   "codemirror_mode": {
    "name": "ipython",
    "version": 3
   },
   "file_extension": ".py",
   "mimetype": "text/x-python",
   "name": "python",
   "nbconvert_exporter": "python",
   "pygments_lexer": "ipython3",
   "version": "3.10.8"
  }
 },
 "nbformat": 4,
 "nbformat_minor": 5
}
