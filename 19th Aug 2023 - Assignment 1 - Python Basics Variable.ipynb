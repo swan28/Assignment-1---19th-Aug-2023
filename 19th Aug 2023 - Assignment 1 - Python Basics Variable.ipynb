{
 "cells": [
  {
   "cell_type": "code",
   "execution_count": 11,
   "id": "9d758ff4-425f-411b-86b1-4e8d3bd8a26a",
   "metadata": {},
   "outputs": [
    {
     "name": "stdout",
     "output_type": "stream",
     "text": [
      "Before Swapping :\n",
      "x =  10 \n",
      "y =  20\n",
      "After Swapping :\n",
      "x =  20\n",
      "y =  10\n"
     ]
    }
   ],
   "source": [
    "'''1. Declare two variables, `x` and `y`, and assign them integer values. Swap the\n",
    "values of these variables without using any temporary variable.'''\n",
    "\n",
    "x = 10\n",
    "y = 20\n",
    "\n",
    "print(\"Before Swapping :\")\n",
    "print(\"x = \", x, \"\\ny = \", y)\n",
    "\n",
    "x , y = y , x\n",
    "\n",
    "print(\"After Swapping :\")\n",
    "print(\"x = \", x)\n",
    "print(\"y = \",y)"
   ]
  },
  {
   "cell_type": "code",
   "execution_count": 13,
   "id": "80f181d7-d762-49ef-b6ec-1a0f4a632018",
   "metadata": {},
   "outputs": [
    {
     "name": "stdin",
     "output_type": "stream",
     "text": [
      "Enter Length of Rectangle :  11.5\n",
      "Enter Width of Rectangle :  7.1\n"
     ]
    },
    {
     "name": "stdout",
     "output_type": "stream",
     "text": [
      "Area of Rectangle =  81.64999999999999\n"
     ]
    }
   ],
   "source": [
    "'''2. Create a program that calculates the area of a rectangle. Take the length and\n",
    "width as inputs from the user and store them in variables. Calculate and\n",
    "display the area.'''\n",
    "\n",
    "length = float(input(\"Enter Length of Rectangle : \"))\n",
    "width = float(input(\"Enter Width of Rectangle : \"))\n",
    "\n",
    "areaOfRectangle = length * width\n",
    "\n",
    "print(\"Area of Rectangle = \", areaOfRectangle)\n",
    "\n"
   ]
  },
  {
   "cell_type": "code",
   "execution_count": 14,
   "id": "8ba897ec-6716-4299-8e2c-5a7e518a3a07",
   "metadata": {},
   "outputs": [
    {
     "name": "stdin",
     "output_type": "stream",
     "text": [
      "Enter Temperature in celsius :  32\n"
     ]
    },
    {
     "name": "stdout",
     "output_type": "stream",
     "text": [
      "Temperature in Fahrenheit =  89.6\n"
     ]
    }
   ],
   "source": [
    "'''3. Write a Python program that converts temperatures from Celsius to\n",
    "Fahrenheit. Take the temperature in Celsius as input, store it in a variable,\n",
    "convert it to Fahrenheit, and display the result.'''\n",
    "\n",
    "celsius = float(input(\"Enter Temperature in celsius : \"))\n",
    "\n",
    "fahrenheit = (celsius*9/5) + 32\n",
    "\n",
    "print(\"Temperature in Fahrenheit = \", fahrenheit)                "
   ]
  }
 ],
 "metadata": {
  "kernelspec": {
   "display_name": "Python 3 (ipykernel)",
   "language": "python",
   "name": "python3"
  },
  "language_info": {
   "codemirror_mode": {
    "name": "ipython",
    "version": 3
   },
   "file_extension": ".py",
   "mimetype": "text/x-python",
   "name": "python",
   "nbconvert_exporter": "python",
   "pygments_lexer": "ipython3",
   "version": "3.10.8"
  }
 },
 "nbformat": 4,
 "nbformat_minor": 5
}
